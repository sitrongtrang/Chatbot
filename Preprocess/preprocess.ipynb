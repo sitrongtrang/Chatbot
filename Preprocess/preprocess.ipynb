{
 "cells": [
  {
   "cell_type": "code",
   "execution_count": 1,
   "metadata": {},
   "outputs": [],
   "source": [
    "import re\n",
    "import os\n",
    "from bs4 import BeautifulSoup\n",
    "from underthesea import text_normalize, word_tokenize\n",
    "from deep_translator import GoogleTranslator\n",
    "from transformers import pipeline\n",
    "from langchain.text_splitter import RecursiveCharacterTextSplitter, CharacterTextSplitter\n",
    "import html\n",
    "import json\n",
    "from dotenv import load_dotenv\n"
   ]
  },
  {
   "cell_type": "code",
   "execution_count": null,
   "metadata": {},
   "outputs": [],
   "source": [
    "load_dotenv()\n",
    "project_directory = os.getenv(\"PROJECT_DIR\")\n",
    "MAX_LENGTH = 512\n",
    "os.environ['TF_ENABLE_ONEDNN_OPTS'] = '0'"
   ]
  },
  {
   "cell_type": "code",
   "execution_count": null,
   "metadata": {},
   "outputs": [],
   "source": [
    "cleaned_data_directory = os.path.join(project_directory, 'Data\\cleaned_data')\n",
    "page_directory = os.path.join(project_directory, 'Data\\pages')\n",
    "url_file = os.path.join(project_directory, r'Data\\urls.json')\n",
    "with open(url_file, 'r') as file:\n",
    "    urls = json.load(file)\n",
    "\n",
    "# urls"
   ]
  },
  {
   "cell_type": "code",
   "execution_count": null,
   "metadata": {},
   "outputs": [],
   "source": [
    "def join_tokens(tokens):\n",
    "    sentence = \"\"\n",
    "    for token in tokens:\n",
    "        if token in [',', '.', '?', ':', '!', ';', '..', '...']:\n",
    "            sentence += token\n",
    "        else:\n",
    "            if sentence and sentence[-1] != ' ':\n",
    "                sentence += ' '\n",
    "            sentence += token\n",
    "\n",
    "    return sentence"
   ]
  },
  {
   "cell_type": "code",
   "execution_count": null,
   "metadata": {},
   "outputs": [],
   "source": [
    "def find_title(href, urls):\n",
    "    title = ''\n",
    "    for url in urls:\n",
    "        if href == url['url'] or href.replace('community.canvaslms.com:443', 'community.canvaslms.com') == url['url']:\n",
    "            return url['title']\n",
    "        if href in url['url'] or href.replace('community.canvaslms.com:443', 'community.canvaslms.com') in url['url']:\n",
    "            title = url['title']\n",
    "    return title"
   ]
  },
  {
   "cell_type": "code",
   "execution_count": null,
   "metadata": {},
   "outputs": [],
   "source": [
    "def remove_html_elements(text, urls):\n",
    "    soup = BeautifulSoup(text, \"html.parser\")\n",
    "    introduction = soup.find_all(class_='step-instructions screensteps-textblock screensteps-wrapper--introduction screensteps-wrapper')\n",
    "    for element in introduction:\n",
    "        element.decompose()\n",
    "    images = soup.find_all('img')\n",
    "    for image in images:\n",
    "        image.decompose()\n",
    "    # for h2 in soup.find_all('h2'):\n",
    "    #     h2.replace_with(\"- \" + h2.text + \":\")\n",
    "    # for a in soup.find_all('a'):\n",
    "    #     title = find_title(a['href'], urls)\n",
    "    #     if len(title) > 0:\n",
    "    #         a.replace_with(f\"{a.text} ({title})\")\n",
    "    #     else:\n",
    "    #         a.replace_with(f\"{a.text}\")\n",
    "    clean_text = soup.get_text()\n",
    "    clean_text = html.unescape(clean_text).replace('\\xa0', '')\n",
    "    return clean_text"
   ]
  },
  {
   "cell_type": "code",
   "execution_count": null,
   "metadata": {},
   "outputs": [],
   "source": [
    "def clean_data(name, indir, outdir, urls):\n",
    "    clean_file = os.path.join(indir, name)\n",
    "    # print(f'Cleaning file: {clean_file}')\n",
    "    with open(clean_file, 'r', encoding='utf-8') as file:\n",
    "        text = file.read()\n",
    "\n",
    "    text = remove_html_elements(text, urls)\n",
    "    lines = text.split('\\n')\n",
    "    lines = [line for line in lines if len(line.strip()) > 0]\n",
    "    text = '\\n'.join(lines)\n",
    "    # pattern = re.compile(r'\\b(' + '|'.join(re.escape(word) for word in abbre_dict.keys()) + r')\\b', re.IGNORECASE)\n",
    "\n",
    "    # text = pattern.sub(lambda x: abbre_dict[x.group().lower()], text)\n",
    "\n",
    "    # corrector = pipeline(\"text2text-generation\", model=\"bmd1905/vietnamese-correction\")\n",
    "    #\n",
    "    # predictions = corrector(sents, max_length=MAX_LENGTH)\n",
    "    # sents = [pred['generated_text'] for pred in predictions]\n",
    "\n",
    "    text = re.sub(r'\\s*\\[\\d+\\]', '', text)\n",
    "    text = re.sub(r'\\[\\d+\\]', '', text)\n",
    "\n",
    "    name, ext = os.path.splitext(name)\n",
    "    text = name + '\\n' + text\n",
    "\n",
    "    text_splitter = RecursiveCharacterTextSplitter(\n",
    "        separators=['\\n', '.'],\n",
    "        chunk_size=4096,\n",
    "        chunk_overlap=0,\n",
    "        length_function=len\n",
    "    )\n",
    "    \n",
    "    # chunks = text_splitter.split_text(text)\n",
    "    \n",
    "    # translator = GoogleTranslator(src='auto', target='vi')\n",
    "    # chunks = [translator.translate(chunk) for chunk in chunks]\n",
    "    \n",
    "    # # text = translator.translate(text)\n",
    "    # text = chunks[0]\n",
    "    # for chunk in chunks[1:]:\n",
    "    #     if chunk[0] == '.':\n",
    "    #         text += chunk\n",
    "    #     else:\n",
    "    #         text += \"\\n\" + chunk\n",
    "    # print(text)\n",
    "    # name = name.replace(\"’\", \"'\")\n",
    "    name = text.split('\\n')[0]\n",
    "    replace_char = ['\\n', '\\t', '?', '!', ':', '*']\n",
    "    for char in replace_char:\n",
    "        name = name.replace(char, '')\n",
    "    write_file = os.path.join(outdir, name + '.txt')\n",
    "    with open(write_file, 'w', encoding='utf-8') as text_file:\n",
    "        text_file.write(''.join(text))\n",
    "    # print(f'Done writing to file: {write_file}')"
   ]
  },
  {
   "cell_type": "code",
   "execution_count": null,
   "metadata": {},
   "outputs": [],
   "source": [
    "def clean_all_files(indir, outdir, urls):\n",
    "    for name in os.listdir(indir):\n",
    "        clean_data(name, indir, outdir, urls)\n",
    "    print(f'Done cleaning all files')"
   ]
  },
  {
   "cell_type": "code",
   "execution_count": null,
   "metadata": {},
   "outputs": [
    {
     "name": "stdout",
     "output_type": "stream",
     "text": [
      "Done cleaning all files\n"
     ]
    }
   ],
   "source": [
    "clean_all_files(page_directory, cleaned_data_directory, urls)"
   ]
  }
 ],
 "metadata": {
  "kernelspec": {
   "display_name": "Python 3",
   "language": "python",
   "name": "python3"
  },
  "language_info": {
   "codemirror_mode": {
    "name": "ipython",
    "version": 3
   },
   "file_extension": ".py",
   "mimetype": "text/x-python",
   "name": "python",
   "nbconvert_exporter": "python",
   "pygments_lexer": "ipython3",
   "version": "3.10.0"
  }
 },
 "nbformat": 4,
 "nbformat_minor": 2
}
